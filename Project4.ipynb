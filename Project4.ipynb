{
 "cells": [
  {
   "cell_type": "code",
   "execution_count": 1,
   "id": "63faaf0d",
   "metadata": {},
   "outputs": [],
   "source": [
    "import nltk\n",
    "from nltk.corpus import movie_reviews\n",
    "from textblob import TextBlob\n",
    "import pandas as pd"
   ]
  },
  {
   "cell_type": "code",
   "execution_count": 2,
   "id": "7a2c3839",
   "metadata": {},
   "outputs": [
    {
     "name": "stderr",
     "output_type": "stream",
     "text": [
      "[nltk_data] Downloading package movie_reviews to\n",
      "[nltk_data]     C:\\Users\\aaron\\AppData\\Roaming\\nltk_data...\n",
      "[nltk_data]   Package movie_reviews is already up-to-date!\n"
     ]
    },
    {
     "data": {
      "text/html": [
       "<div>\n",
       "<style scoped>\n",
       "    .dataframe tbody tr th:only-of-type {\n",
       "        vertical-align: middle;\n",
       "    }\n",
       "\n",
       "    .dataframe tbody tr th {\n",
       "        vertical-align: top;\n",
       "    }\n",
       "\n",
       "    .dataframe thead th {\n",
       "        text-align: right;\n",
       "    }\n",
       "</style>\n",
       "<table border=\"1\" class=\"dataframe\">\n",
       "  <thead>\n",
       "    <tr style=\"text-align: right;\">\n",
       "      <th></th>\n",
       "      <th>FileID</th>\n",
       "      <th>Sentiment</th>\n",
       "      <th>Polarity</th>\n",
       "    </tr>\n",
       "  </thead>\n",
       "  <tbody>\n",
       "    <tr>\n",
       "      <th>0</th>\n",
       "      <td>neg/cv000_29416.txt</td>\n",
       "      <td>Positive</td>\n",
       "      <td>0.064798</td>\n",
       "    </tr>\n",
       "    <tr>\n",
       "      <th>1</th>\n",
       "      <td>neg/cv001_19502.txt</td>\n",
       "      <td>Positive</td>\n",
       "      <td>0.080633</td>\n",
       "    </tr>\n",
       "    <tr>\n",
       "      <th>2</th>\n",
       "      <td>neg/cv002_17424.txt</td>\n",
       "      <td>Positive</td>\n",
       "      <td>0.057845</td>\n",
       "    </tr>\n",
       "    <tr>\n",
       "      <th>3</th>\n",
       "      <td>neg/cv003_12683.txt</td>\n",
       "      <td>Positive</td>\n",
       "      <td>0.025467</td>\n",
       "    </tr>\n",
       "    <tr>\n",
       "      <th>4</th>\n",
       "      <td>neg/cv004_12641.txt</td>\n",
       "      <td>Positive</td>\n",
       "      <td>0.022925</td>\n",
       "    </tr>\n",
       "  </tbody>\n",
       "</table>\n",
       "</div>"
      ],
      "text/plain": [
       "                FileID Sentiment  Polarity\n",
       "0  neg/cv000_29416.txt  Positive  0.064798\n",
       "1  neg/cv001_19502.txt  Positive  0.080633\n",
       "2  neg/cv002_17424.txt  Positive  0.057845\n",
       "3  neg/cv003_12683.txt  Positive  0.025467\n",
       "4  neg/cv004_12641.txt  Positive  0.022925"
      ]
     },
     "execution_count": 2,
     "metadata": {},
     "output_type": "execute_result"
    }
   ],
   "source": [
    "nltk.download('movie_reviews')\n",
    "\n",
    "# Perform sentiment analysis on movie reviews\n",
    "sentiments = []\n",
    "for fileid in movie_reviews.fileids():\n",
    "    review = movie_reviews.raw(fileid)\n",
    "    blob = TextBlob(review)\n",
    "    polarity = blob.sentiment.polarity\n",
    "    sentiment = 'Positive' if polarity > 0 else 'Negative'\n",
    "    sentiments.append((fileid, sentiment, polarity))\n",
    "\n",
    "# Convert results to a DataFrame\n",
    "df_sentiments = pd.DataFrame(sentiments, columns=['FileID', 'Sentiment', 'Polarity'])\n",
    "df_sentiments.head()"
   ]
  },
  {
   "cell_type": "code",
   "execution_count": 3,
   "id": "49a7d733",
   "metadata": {},
   "outputs": [
    {
     "name": "stdout",
     "output_type": "stream",
     "text": [
      "CSV file saved successfully: sentiment_analysis_results.csv\n"
     ]
    }
   ],
   "source": [
    "# Export DataFrame to CSV\n",
    "csv_file_path = \"sentiment_analysis_results.csv\"\n",
    "df_sentiments.to_csv(csv_file_path, index=False)\n",
    "print(\"CSV file saved successfully:\", csv_file_path)"
   ]
  },
  {
   "cell_type": "code",
   "execution_count": 10,
   "id": "4d84ca7f",
   "metadata": {},
   "outputs": [
    {
     "name": "stdout",
     "output_type": "stream",
     "text": [
      "CSV file uploaded to Blob Storage successfully.\n"
     ]
    }
   ],
   "source": [
    "# Upload CSV to Blob Storage\n",
    "from azure.storage.blob import BlobServiceClient, BlobClient, ContainerClient\n",
    "\n",
    "# Set your Azure Blob Storage connection string\n",
    "connect_str = \"placeholderkey\"\n",
    "\n",
    "# Create a BlobServiceClient object\n",
    "blob_service_client = BlobServiceClient.from_connection_string(connect_str)\n",
    "\n",
    "# Set the name for the container where you want to upload the CSV file\n",
    "container_name = \"a4container\"\n",
    "container_client = blob_service_client.get_container_client(container_name)\n",
    "\n",
    "# Set the path to the CSV file on your local machine\n",
    "local_file_path = \"sentiment_analysis_results.csv\"\n",
    "\n",
    "# Set the name for the CSV file in Blob Storage\n",
    "blob_name = \"sentiment_analysis_results.csv\"\n",
    "\n",
    "# Upload the CSV file to Blob Storage\n",
    "with open(local_file_path, \"rb\") as data:\n",
    "    container_client.upload_blob(name=blob_name, data=data)\n",
    "print(\"CSV file uploaded to Blob Storage successfully.\")"
   ]
  }
 ],
 "metadata": {
  "kernelspec": {
   "display_name": "Python 3 (ipykernel)",
   "language": "python",
   "name": "python3"
  },
  "language_info": {
   "codemirror_mode": {
    "name": "ipython",
    "version": 3
   },
   "file_extension": ".py",
   "mimetype": "text/x-python",
   "name": "python",
   "nbconvert_exporter": "python",
   "pygments_lexer": "ipython3",
   "version": "3.11.4"
  }
 },
 "nbformat": 4,
 "nbformat_minor": 5
}
